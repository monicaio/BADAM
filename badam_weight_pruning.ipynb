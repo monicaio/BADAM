{
 "cells": [
  {
   "cell_type": "code",
   "execution_count": 2,
   "metadata": {},
   "outputs": [],
   "source": [
    "from tensorflow.python.ops import control_flow_ops\n",
    "from tensorflow.python.ops import math_ops\n",
    "from tensorflow.python.ops import state_ops\n",
    "from tensorflow.python.framework import ops\n",
    "from tensorflow.python.training import optimizer\n",
    "import tensorflow as tf\n",
    "#import tflearn\n",
    "import numpy as np\n",
    "import pandas as pd\n",
    "\n",
    "from optimizers import BayesAdam\n",
    "\n",
    "import matplotlib.pyplot as plt\n",
    "%matplotlib inline "
   ]
  },
  {
   "cell_type": "code",
   "execution_count": 3,
   "metadata": {},
   "outputs": [],
   "source": [
    "import _pickle as cPickle"
   ]
  },
  {
   "cell_type": "code",
   "execution_count": 4,
   "metadata": {},
   "outputs": [],
   "source": [
    "config = tf.ConfigProto()\n",
    "config.gpu_options.allow_growth = True"
   ]
  },
  {
   "cell_type": "code",
   "execution_count": 5,
   "metadata": {},
   "outputs": [],
   "source": [
    "def batches(X,Y, batchsize = 128):\n",
    "    for i in range(0, len(X), batchsize):\n",
    "        yield X[i:i + batchsize], Y[i:i + batchsize]"
   ]
  },
  {
   "cell_type": "code",
   "execution_count": 6,
   "metadata": {},
   "outputs": [],
   "source": [
    "import tensorflow as tf\n",
    "mnist = tf.keras.datasets.mnist\n",
    "\n",
    "(X, Y_),(X_test, Y_test_) = mnist.load_data()\n",
    "X, X_test = X / 255.0, X_test / 255.0"
   ]
  },
  {
   "cell_type": "code",
   "execution_count": 7,
   "metadata": {},
   "outputs": [
    {
     "data": {
      "text/plain": [
       "((60000, 784), (10000, 784))"
      ]
     },
     "execution_count": 7,
     "metadata": {},
     "output_type": "execute_result"
    }
   ],
   "source": [
    "X_train = X.reshape(X.shape[0], 28*28)\n",
    "X_test = X_test.reshape(X_test.shape[0], 28*28)\n",
    "\n",
    "X_train.shape, X_test.shape"
   ]
  },
  {
   "cell_type": "code",
   "execution_count": 8,
   "metadata": {},
   "outputs": [],
   "source": [
    "import sklearn.preprocessing\n",
    "label_binarizer = sklearn.preprocessing.LabelBinarizer()\n",
    "label_binarizer.fit(range(max(Y_)+1))\n",
    "Y_train = label_binarizer.transform(Y_)\n",
    "label_binarizer.fit(range(max(Y_test_)+1))\n",
    "Y_test = label_binarizer.transform(Y_test_)"
   ]
  },
  {
   "cell_type": "code",
   "execution_count": 9,
   "metadata": {},
   "outputs": [
    {
     "data": {
      "text/plain": [
       "((60000, 10), (10000, 10))"
      ]
     },
     "execution_count": 9,
     "metadata": {},
     "output_type": "execute_result"
    }
   ],
   "source": [
    "Y_train.shape, Y_test.shape"
   ]
  },
  {
   "cell_type": "code",
   "execution_count": 10,
   "metadata": {},
   "outputs": [],
   "source": [
    "inds = np.random.permutation(X_train.shape[0])\n",
    "# X_val = X_tmp[inds[:5000]]\n",
    "# Y_val = Y_tmp[inds[:5000]]\n",
    "X_train = X_train[inds]\n",
    "Y_train = Y_train[inds]"
   ]
  },
  {
   "cell_type": "code",
   "execution_count": 11,
   "metadata": {},
   "outputs": [],
   "source": [
    "#X_val.shape, Y_val.shape"
   ]
  },
  {
   "cell_type": "code",
   "execution_count": 12,
   "metadata": {},
   "outputs": [
    {
     "data": {
      "text/plain": [
       "((60000, 784), (60000, 10))"
      ]
     },
     "execution_count": 12,
     "metadata": {},
     "output_type": "execute_result"
    }
   ],
   "source": [
    "X_train.shape, Y_train.shape"
   ]
  },
  {
   "cell_type": "code",
   "execution_count": 13,
   "metadata": {},
   "outputs": [],
   "source": [
    "def gaussian(x, mu, sigma):\n",
    "    scaling = 1.0 / np.sqrt(2.0 * np.pi * (sigma ** 2))\n",
    "    bell = np.exp(- (x - mu) ** 2 / (2.0 * sigma ** 2))\n",
    "\n",
    "    return scaling * bell\n",
    "\n",
    "def show_weight_dist(mean, variance):\n",
    "    sigma = np.sqrt(variance)\n",
    "    x = np.linspace(mean - 4*sigma, mean + 4*sigma, 100)\n",
    "    plt.plot(x, gaussian(np.array(x), mean, sigma))\n",
    "    plt.show()"
   ]
  },
  {
   "cell_type": "code",
   "execution_count": 16,
   "metadata": {},
   "outputs": [],
   "source": [
    "def train(X, Y, X_test, Y_test, badam = True, num_epochs=10, learning_rate = 0.0001, l2 = 0.01, dropout= 0.0, \n",
    "          beta1=0.9, beta2=0.999, prec=100.0, laplace_mle=False, no_bias_init=False, size=60000, act='relu'):\n",
    "    \n",
    "    # learning_rate = 0.001 ## good for ~ 10-20 epochs\n",
    "    # learning_rate = 0.0001 ## good for ~ 30-100 epochs\n",
    "    \n",
    "    \n",
    "    cv_accuracy_results = []\n",
    "    val_loss = []\n",
    "    \n",
    "    tf.reset_default_graph()\n",
    "    tf.set_random_seed(1)\n",
    "    \n",
    "    inputs = tf.placeholder(tf.float32, [None, 784])\n",
    "    labels = tf.placeholder(tf.int32, [None, 10])\n",
    "    training = tf.placeholder(tf.bool, ())\n",
    "    input_d = 784\n",
    "    \n",
    "    if act =='relu':\n",
    "        act_fnc = tf.nn.relu\n",
    "    elif act == 'sigmoid':\n",
    "        act_fnc = tf.nn.sigmoid\n",
    "    else:\n",
    "        raise ValueError\n",
    "    \n",
    "    with tf.variable_scope('nn'):\n",
    "        regularizer = tf.contrib.layers.l2_regularizer(scale=l2)\n",
    "        _hidden = tf.layers.dense(inputs, 400, \n",
    "                                  kernel_initializer=tf.initializers.random_normal(mean=0.0, stddev=0.1, seed=None),\n",
    "                                  bias_initializer=tf.initializers.random_normal(mean=0.0, stddev=0.1, seed=None),\n",
    "                                  kernel_regularizer=regularizer,\n",
    "                                  bias_regularizer=regularizer,\n",
    "                                  name='dense_l1')\n",
    "        hidden_d = tf.layers.dropout(_hidden, rate=dropout, training=training)\n",
    "        hidden = act_fnc(hidden_d)\n",
    "        \n",
    "        _hidden = tf.layers.dense(hidden, 400, kernel_initializer=tf.initializers.random_normal(mean=0.0, stddev=0.1, seed=None),\n",
    "                                  bias_initializer=tf.initializers.random_normal(mean=0.0, stddev=0.1, seed=None),\n",
    "                                  kernel_regularizer=regularizer,\n",
    "                                  bias_regularizer=regularizer,\n",
    "                                  name='dense_l2')\n",
    "        hidden_d = tf.layers.dropout(_hidden, rate=dropout, training=training)\n",
    "        hidden = act_fnc(hidden_d)\n",
    "        \n",
    "        logits = tf.layers.dense(hidden, 10, kernel_initializer=tf.initializers.random_normal(mean=0.0, stddev=0.1, seed=None),\n",
    "                                 bias_initializer=tf.initializers.random_normal(mean=0.0, stddev=0.1, seed=None),\n",
    "                                 name='dense_out')\n",
    "        out = tf.nn.softmax(logits)\n",
    "        \n",
    "    tmp = tf.reduce_mean(tf.nn.softmax_cross_entropy_with_logits_v2(labels=labels, logits=logits))\n",
    "    loss = tmp + tf.losses.get_regularization_loss()\n",
    "    opt = BayesAdam(learning_rate=learning_rate, N=size,\n",
    "                    laplace_mle=laplace_mle, no_bias_init=no_bias_init,\n",
    "                    params = {'beta_1': beta1, \n",
    "                              'beta_2': beta2,\n",
    "                              'prec': prec})\n",
    "\n",
    "    weights = tf.get_collection(tf.GraphKeys.TRAINABLE_VARIABLES, scope=tf.get_variable_scope().name)\n",
    "    \n",
    "    opt_train = opt.minimize(loss)\n",
    " \n",
    "    correct_prediction = tf.equal(tf.argmax(out,1), tf.argmax(labels,1))\n",
    "    accuracy = tf.reduce_mean(tf.cast(correct_prediction, tf.float32))\n",
    "    \n",
    "    with tf.Session(config=config) as sess:\n",
    "        sess.run(tf.global_variables_initializer())\n",
    "\n",
    "        for epoch in range(num_epochs):\n",
    "\n",
    "            i=0\n",
    "            for x, y in batches(X,Y):\n",
    "                sess.run(opt_train, {inputs: x, labels: y, training: True})\n",
    "                \n",
    "#                 if i <100:\n",
    "#                     print(sess.run(weights[3]))\n",
    "#                     xxx = opt.get_slot(weights[3], \"sigma\")\n",
    "#                     print(\"sigma: {}\".format(sess.run(xxx)))\n",
    "#                     print(\"m: {}\".format(sess.run(opt.get_slot(weights[3], \"m\"))))\n",
    "#                     print(\"v: {}\".format(sess.run(opt.get_slot(weights[3], \"v\"))))\n",
    "                    \n",
    "            acc, l = sess.run([accuracy, loss], {inputs: X_test,  labels: Y_test, training: False})       \n",
    "            cv_accuracy_results.append(acc)\n",
    "            val_loss.append(l)\n",
    "\n",
    "            print('Epoch: {:>2}: Validation loss: {:>3.5f}, Validation accuracy: {:>3.5f}'.format(epoch, l, acc))\n",
    "    \n",
    "        sigmas = [opt.get_slot(v, \"sigma\") for v in weights] \n",
    "           \n",
    "        # store flattened arrays:\n",
    "        if laplace_mle:\n",
    "            mean_coefs = [opt.get_slot(v, \"mean_coef\") for v in weights]\n",
    "            weightvalues = np.hstack(np.array([sess.run(c).flatten() * sess.run(w).flatten() for c, w in zip(mean_coefs, weights)]))\n",
    "        else:\n",
    "            weightvalues = np.hstack(np.array([sess.run(w).flatten() for w in weights]))\n",
    "        \n",
    "        sqrtsigmavalues = np.hstack(np.array([sess.run(tf.sqrt(s)).flatten() for s in sigmas]))\n",
    "        \n",
    "        # store weights:\n",
    "        _weights = [sess.run(w) for w in weights]\n",
    "        \n",
    "        def resetweights():\n",
    "            for v,_v in zip(weights,_weights):\n",
    "                v_t = state_ops.assign(v,tf.cast(_v, v.dtype))\n",
    "                sess.run(v_t)\n",
    "        \n",
    "        def pruning(remove_pct, new = True):\n",
    "            if new: \n",
    "                sorted_STN = np.sort(np.abs(weightvalues)/sqrtsigmavalues)\n",
    "            else: \n",
    "                sorted_STN = np.sort(np.abs(weightvalues))\n",
    "            cuttoff = sorted_STN[int(remove_pct*len(sorted_STN))]\n",
    "            #print(weights[-1])\n",
    "            #print(sess.run(weights[-1]))\n",
    "\n",
    "            for v,s in zip(weights,sigmas):\n",
    "                if new:\n",
    "                    stn = tf.abs(v)/tf.sqrt(s)\n",
    "                    mask = tf.greater_equal(stn,cuttoff)\n",
    "                else:\n",
    "                    mask = tf.greater_equal(tf.abs(v),cuttoff)\n",
    "                #print(sess.run(mask))\n",
    "                v_t = state_ops.assign(v,tf.multiply(v, tf.cast(mask, v.dtype)))\n",
    "                sess.run(v_t)\n",
    "            #print(sess.run(weights[-1]))  \n",
    "            \n",
    "            acc = sess.run(accuracy, {inputs: X_test, labels: Y_test, training:False})\n",
    "            print(\"%.2f, %s\" % (np.sum(sorted_STN<cuttoff)/len(sorted_STN),acc ))\n",
    "            return acc\n",
    "        \n",
    "        xs = np.append(0.1 * np.array(range(10)), [0.95, 0.96, 0.97, 0.98, 0.99, 0.992, 0.995, 0.997, 0.999])\n",
    "        ya = []\n",
    "        print(\"Pruning smallest elements (baseline):\")\n",
    "        for pct in xs:\n",
    "            ya.append(pruning(pct, new= False))\n",
    "        \n",
    "        yb = []\n",
    "        resetweights()\n",
    "        print(\"Pruning using signal-to-noise from Bayes:\")\n",
    "        for pct in xs:\n",
    "            yb.append(pruning(pct, new= True))\n",
    "        return xs, ya, yb, cv_accuracy_results, weightvalues, sqrtsigmavalues, val_loss"
   ]
  },
  {
   "cell_type": "code",
   "execution_count": 17,
   "metadata": {},
   "outputs": [
    {
     "name": "stdout",
     "output_type": "stream",
     "text": [
      "INFO:tensorflow:Scale of 0 disables regularizer.\n",
      "WARNING:tensorflow:Entity <bound method Dense.call of <tensorflow.python.layers.core.Dense object at 0x13b71a4e0>> could not be transformed and will be executed as-is. Please report this to the AutgoGraph team. When filing the bug, set the verbosity to 10 (on Linux, `export AUTOGRAPH_VERBOSITY=10`) and attach the full output. Cause: converting <bound method Dense.call of <tensorflow.python.layers.core.Dense object at 0x13b71a4e0>>: AssertionError: Bad argument number for Name: 3, expecting 4\n",
      "WARNING: Entity <bound method Dense.call of <tensorflow.python.layers.core.Dense object at 0x13b71a4e0>> could not be transformed and will be executed as-is. Please report this to the AutgoGraph team. When filing the bug, set the verbosity to 10 (on Linux, `export AUTOGRAPH_VERBOSITY=10`) and attach the full output. Cause: converting <bound method Dense.call of <tensorflow.python.layers.core.Dense object at 0x13b71a4e0>>: AssertionError: Bad argument number for Name: 3, expecting 4\n",
      "WARNING:tensorflow:Entity <bound method Dropout.call of <tensorflow.python.layers.core.Dropout object at 0x10e144f60>> could not be transformed and will be executed as-is. Please report this to the AutgoGraph team. When filing the bug, set the verbosity to 10 (on Linux, `export AUTOGRAPH_VERBOSITY=10`) and attach the full output. Cause: converting <bound method Dropout.call of <tensorflow.python.layers.core.Dropout object at 0x10e144f60>>: AssertionError: Bad argument number for Name: 3, expecting 4\n",
      "WARNING: Entity <bound method Dropout.call of <tensorflow.python.layers.core.Dropout object at 0x10e144f60>> could not be transformed and will be executed as-is. Please report this to the AutgoGraph team. When filing the bug, set the verbosity to 10 (on Linux, `export AUTOGRAPH_VERBOSITY=10`) and attach the full output. Cause: converting <bound method Dropout.call of <tensorflow.python.layers.core.Dropout object at 0x10e144f60>>: AssertionError: Bad argument number for Name: 3, expecting 4\n",
      "WARNING:tensorflow:Entity <bound method Dense.call of <tensorflow.python.layers.core.Dense object at 0x13b71de48>> could not be transformed and will be executed as-is. Please report this to the AutgoGraph team. When filing the bug, set the verbosity to 10 (on Linux, `export AUTOGRAPH_VERBOSITY=10`) and attach the full output. Cause: converting <bound method Dense.call of <tensorflow.python.layers.core.Dense object at 0x13b71de48>>: AssertionError: Bad argument number for Name: 3, expecting 4\n",
      "WARNING: Entity <bound method Dense.call of <tensorflow.python.layers.core.Dense object at 0x13b71de48>> could not be transformed and will be executed as-is. Please report this to the AutgoGraph team. When filing the bug, set the verbosity to 10 (on Linux, `export AUTOGRAPH_VERBOSITY=10`) and attach the full output. Cause: converting <bound method Dense.call of <tensorflow.python.layers.core.Dense object at 0x13b71de48>>: AssertionError: Bad argument number for Name: 3, expecting 4\n",
      "WARNING:tensorflow:Entity <bound method Dropout.call of <tensorflow.python.layers.core.Dropout object at 0x10e144f60>> could not be transformed and will be executed as-is. Please report this to the AutgoGraph team. When filing the bug, set the verbosity to 10 (on Linux, `export AUTOGRAPH_VERBOSITY=10`) and attach the full output. Cause: converting <bound method Dropout.call of <tensorflow.python.layers.core.Dropout object at 0x10e144f60>>: AssertionError: Bad argument number for Name: 3, expecting 4\n",
      "WARNING: Entity <bound method Dropout.call of <tensorflow.python.layers.core.Dropout object at 0x10e144f60>> could not be transformed and will be executed as-is. Please report this to the AutgoGraph team. When filing the bug, set the verbosity to 10 (on Linux, `export AUTOGRAPH_VERBOSITY=10`) and attach the full output. Cause: converting <bound method Dropout.call of <tensorflow.python.layers.core.Dropout object at 0x10e144f60>>: AssertionError: Bad argument number for Name: 3, expecting 4\n",
      "WARNING:tensorflow:Entity <bound method Dense.call of <tensorflow.python.layers.core.Dense object at 0x13b71dc18>> could not be transformed and will be executed as-is. Please report this to the AutgoGraph team. When filing the bug, set the verbosity to 10 (on Linux, `export AUTOGRAPH_VERBOSITY=10`) and attach the full output. Cause: converting <bound method Dense.call of <tensorflow.python.layers.core.Dense object at 0x13b71dc18>>: AssertionError: Bad argument number for Name: 3, expecting 4\n",
      "WARNING: Entity <bound method Dense.call of <tensorflow.python.layers.core.Dense object at 0x13b71dc18>> could not be transformed and will be executed as-is. Please report this to the AutgoGraph team. When filing the bug, set the verbosity to 10 (on Linux, `export AUTOGRAPH_VERBOSITY=10`) and attach the full output. Cause: converting <bound method Dense.call of <tensorflow.python.layers.core.Dense object at 0x13b71dc18>>: AssertionError: Bad argument number for Name: 3, expecting 4\n",
      "Epoch:  0: Validation loss: 0.25939, Validation accuracy: 0.92270\n",
      "Epoch:  1: Validation loss: 0.22893, Validation accuracy: 0.93130\n",
      "Epoch:  2: Validation loss: 0.20958, Validation accuracy: 0.93720\n",
      "Epoch:  3: Validation loss: 0.19105, Validation accuracy: 0.94220\n",
      "Epoch:  4: Validation loss: 0.17505, Validation accuracy: 0.94670\n",
      "Epoch:  5: Validation loss: 0.16339, Validation accuracy: 0.94950\n",
      "Epoch:  6: Validation loss: 0.15100, Validation accuracy: 0.95390\n",
      "Epoch:  7: Validation loss: 0.14123, Validation accuracy: 0.95720\n",
      "Epoch:  8: Validation loss: 0.13186, Validation accuracy: 0.95950\n",
      "Epoch:  9: Validation loss: 0.12968, Validation accuracy: 0.96120\n",
      "Epoch: 10: Validation loss: 0.12321, Validation accuracy: 0.96280\n",
      "Epoch: 11: Validation loss: 0.11626, Validation accuracy: 0.96490\n",
      "Epoch: 12: Validation loss: 0.11864, Validation accuracy: 0.96420\n",
      "Epoch: 13: Validation loss: 0.10674, Validation accuracy: 0.96760\n",
      "Epoch: 14: Validation loss: 0.10147, Validation accuracy: 0.96880\n",
      "Epoch: 15: Validation loss: 0.10229, Validation accuracy: 0.96930\n",
      "Epoch: 16: Validation loss: 0.09544, Validation accuracy: 0.97060\n",
      "Epoch: 17: Validation loss: 0.09413, Validation accuracy: 0.97060\n",
      "Epoch: 18: Validation loss: 0.09621, Validation accuracy: 0.97030\n",
      "Epoch: 19: Validation loss: 0.09199, Validation accuracy: 0.97200\n",
      "Epoch: 20: Validation loss: 0.09008, Validation accuracy: 0.97320\n",
      "Epoch: 21: Validation loss: 0.08669, Validation accuracy: 0.97380\n",
      "Epoch: 22: Validation loss: 0.08712, Validation accuracy: 0.97360\n",
      "Epoch: 23: Validation loss: 0.08507, Validation accuracy: 0.97450\n",
      "Epoch: 24: Validation loss: 0.08310, Validation accuracy: 0.97510\n",
      "Epoch: 25: Validation loss: 0.08339, Validation accuracy: 0.97570\n",
      "Epoch: 26: Validation loss: 0.08655, Validation accuracy: 0.97470\n",
      "Epoch: 27: Validation loss: 0.08170, Validation accuracy: 0.97580\n",
      "Epoch: 28: Validation loss: 0.07928, Validation accuracy: 0.97680\n",
      "Epoch: 29: Validation loss: 0.07971, Validation accuracy: 0.97660\n",
      "Epoch: 30: Validation loss: 0.08048, Validation accuracy: 0.97690\n",
      "Epoch: 31: Validation loss: 0.08452, Validation accuracy: 0.97580\n",
      "Epoch: 32: Validation loss: 0.08100, Validation accuracy: 0.97690\n",
      "Epoch: 33: Validation loss: 0.08017, Validation accuracy: 0.97730\n",
      "Epoch: 34: Validation loss: 0.08261, Validation accuracy: 0.97760\n",
      "Epoch: 35: Validation loss: 0.07833, Validation accuracy: 0.97790\n",
      "Epoch: 36: Validation loss: 0.08339, Validation accuracy: 0.97670\n",
      "Epoch: 37: Validation loss: 0.08679, Validation accuracy: 0.97670\n",
      "Epoch: 38: Validation loss: 0.07940, Validation accuracy: 0.97780\n",
      "Epoch: 39: Validation loss: 0.08043, Validation accuracy: 0.97810\n",
      "Epoch: 40: Validation loss: 0.07796, Validation accuracy: 0.97980\n",
      "Epoch: 41: Validation loss: 0.08210, Validation accuracy: 0.97810\n",
      "Epoch: 42: Validation loss: 0.08389, Validation accuracy: 0.97750\n",
      "Epoch: 43: Validation loss: 0.08120, Validation accuracy: 0.97850\n",
      "Epoch: 44: Validation loss: 0.08152, Validation accuracy: 0.97830\n",
      "Epoch: 45: Validation loss: 0.08377, Validation accuracy: 0.97770\n",
      "Epoch: 46: Validation loss: 0.09062, Validation accuracy: 0.97680\n",
      "Epoch: 47: Validation loss: 0.08330, Validation accuracy: 0.97810\n",
      "Epoch: 48: Validation loss: 0.08681, Validation accuracy: 0.97810\n"
     ]
    },
    {
     "name": "stdout",
     "output_type": "stream",
     "text": [
      "Epoch: 49: Validation loss: 0.08846, Validation accuracy: 0.97670\n",
      "Epoch: 50: Validation loss: 0.08730, Validation accuracy: 0.97900\n",
      "Epoch: 51: Validation loss: 0.07956, Validation accuracy: 0.97960\n",
      "Epoch: 52: Validation loss: 0.08006, Validation accuracy: 0.97900\n",
      "Epoch: 53: Validation loss: 0.08619, Validation accuracy: 0.97900\n",
      "Epoch: 54: Validation loss: 0.08867, Validation accuracy: 0.97860\n",
      "Epoch: 55: Validation loss: 0.08767, Validation accuracy: 0.97900\n",
      "Epoch: 56: Validation loss: 0.09225, Validation accuracy: 0.97790\n",
      "Epoch: 57: Validation loss: 0.08343, Validation accuracy: 0.97890\n",
      "Epoch: 58: Validation loss: 0.08685, Validation accuracy: 0.97960\n",
      "Epoch: 59: Validation loss: 0.10281, Validation accuracy: 0.97590\n",
      "Epoch: 60: Validation loss: 0.09093, Validation accuracy: 0.97790\n",
      "Epoch: 61: Validation loss: 0.09148, Validation accuracy: 0.97830\n",
      "Epoch: 62: Validation loss: 0.08822, Validation accuracy: 0.97850\n",
      "Epoch: 63: Validation loss: 0.08832, Validation accuracy: 0.97910\n",
      "Epoch: 64: Validation loss: 0.09472, Validation accuracy: 0.97780\n",
      "Epoch: 65: Validation loss: 0.08969, Validation accuracy: 0.97870\n",
      "Epoch: 66: Validation loss: 0.09385, Validation accuracy: 0.97930\n",
      "Epoch: 67: Validation loss: 0.09270, Validation accuracy: 0.97970\n",
      "Epoch: 68: Validation loss: 0.09031, Validation accuracy: 0.97920\n",
      "Epoch: 69: Validation loss: 0.08907, Validation accuracy: 0.97890\n",
      "Epoch: 70: Validation loss: 0.08659, Validation accuracy: 0.97950\n",
      "Epoch: 71: Validation loss: 0.09671, Validation accuracy: 0.97830\n",
      "Epoch: 72: Validation loss: 0.09241, Validation accuracy: 0.97930\n",
      "Epoch: 73: Validation loss: 0.10137, Validation accuracy: 0.97790\n",
      "Epoch: 74: Validation loss: 0.08779, Validation accuracy: 0.98000\n",
      "Epoch: 75: Validation loss: 0.10460, Validation accuracy: 0.97780\n",
      "Epoch: 76: Validation loss: 0.09751, Validation accuracy: 0.97850\n",
      "Epoch: 77: Validation loss: 0.10290, Validation accuracy: 0.97830\n",
      "Epoch: 78: Validation loss: 0.09957, Validation accuracy: 0.97850\n",
      "Epoch: 79: Validation loss: 0.10337, Validation accuracy: 0.97880\n",
      "Epoch: 80: Validation loss: 0.10580, Validation accuracy: 0.97770\n",
      "Epoch: 81: Validation loss: 0.10116, Validation accuracy: 0.97910\n",
      "Epoch: 82: Validation loss: 0.09686, Validation accuracy: 0.97900\n",
      "Epoch: 83: Validation loss: 0.09842, Validation accuracy: 0.97930\n",
      "Epoch: 84: Validation loss: 0.10796, Validation accuracy: 0.97770\n",
      "Epoch: 85: Validation loss: 0.10812, Validation accuracy: 0.97710\n",
      "Epoch: 86: Validation loss: 0.09723, Validation accuracy: 0.98050\n",
      "Epoch: 87: Validation loss: 0.09719, Validation accuracy: 0.98010\n",
      "Epoch: 88: Validation loss: 0.09811, Validation accuracy: 0.98000\n",
      "Epoch: 89: Validation loss: 0.09846, Validation accuracy: 0.97950\n",
      "Epoch: 90: Validation loss: 0.10602, Validation accuracy: 0.97880\n",
      "Epoch: 91: Validation loss: 0.09493, Validation accuracy: 0.97990\n",
      "Epoch: 92: Validation loss: 0.10540, Validation accuracy: 0.97940\n",
      "Epoch: 93: Validation loss: 0.10060, Validation accuracy: 0.97940\n",
      "Epoch: 94: Validation loss: 0.10142, Validation accuracy: 0.97960\n",
      "Epoch: 95: Validation loss: 0.10550, Validation accuracy: 0.97840\n",
      "Epoch: 96: Validation loss: 0.10160, Validation accuracy: 0.97870\n",
      "Epoch: 97: Validation loss: 0.09593, Validation accuracy: 0.98010\n",
      "Epoch: 98: Validation loss: 0.09431, Validation accuracy: 0.97990\n",
      "Epoch: 99: Validation loss: 0.10533, Validation accuracy: 0.97930\n",
      "Epoch: 100: Validation loss: 0.11183, Validation accuracy: 0.97850\n",
      "Epoch: 101: Validation loss: 0.10357, Validation accuracy: 0.97920\n",
      "Epoch: 102: Validation loss: 0.10045, Validation accuracy: 0.98090\n",
      "Epoch: 103: Validation loss: 0.10677, Validation accuracy: 0.97930\n",
      "Epoch: 104: Validation loss: 0.10491, Validation accuracy: 0.97910\n",
      "Epoch: 105: Validation loss: 0.10201, Validation accuracy: 0.97980\n",
      "Epoch: 106: Validation loss: 0.10710, Validation accuracy: 0.97970\n",
      "Epoch: 107: Validation loss: 0.10988, Validation accuracy: 0.97880\n",
      "Epoch: 108: Validation loss: 0.10889, Validation accuracy: 0.97880\n",
      "Epoch: 109: Validation loss: 0.10329, Validation accuracy: 0.98030\n",
      "Epoch: 110: Validation loss: 0.11403, Validation accuracy: 0.97850\n",
      "Epoch: 111: Validation loss: 0.10568, Validation accuracy: 0.98000\n",
      "Epoch: 112: Validation loss: 0.10612, Validation accuracy: 0.97970\n",
      "Epoch: 113: Validation loss: 0.10701, Validation accuracy: 0.98000\n",
      "Epoch: 114: Validation loss: 0.10967, Validation accuracy: 0.97980\n",
      "Epoch: 115: Validation loss: 0.11624, Validation accuracy: 0.97930\n",
      "Epoch: 116: Validation loss: 0.11492, Validation accuracy: 0.97830\n",
      "Epoch: 117: Validation loss: 0.10827, Validation accuracy: 0.98020\n",
      "Epoch: 118: Validation loss: 0.11051, Validation accuracy: 0.97960\n",
      "Epoch: 119: Validation loss: 0.10243, Validation accuracy: 0.98070\n",
      "Epoch: 120: Validation loss: 0.11751, Validation accuracy: 0.97870\n",
      "Epoch: 121: Validation loss: 0.12202, Validation accuracy: 0.97690\n",
      "Epoch: 122: Validation loss: 0.10928, Validation accuracy: 0.98080\n",
      "Epoch: 123: Validation loss: 0.11003, Validation accuracy: 0.98020\n",
      "Epoch: 124: Validation loss: 0.11140, Validation accuracy: 0.98010\n",
      "Epoch: 125: Validation loss: 0.11182, Validation accuracy: 0.97970\n",
      "Epoch: 126: Validation loss: 0.12741, Validation accuracy: 0.97790\n",
      "Epoch: 127: Validation loss: 0.11361, Validation accuracy: 0.98020\n",
      "Epoch: 128: Validation loss: 0.10865, Validation accuracy: 0.98060\n",
      "Epoch: 129: Validation loss: 0.10766, Validation accuracy: 0.98020\n",
      "Epoch: 130: Validation loss: 0.10589, Validation accuracy: 0.98150\n",
      "Epoch: 131: Validation loss: 0.10902, Validation accuracy: 0.98160\n",
      "Epoch: 132: Validation loss: 0.11174, Validation accuracy: 0.98020\n",
      "Epoch: 133: Validation loss: 0.11015, Validation accuracy: 0.98140\n",
      "Epoch: 134: Validation loss: 0.11706, Validation accuracy: 0.97980\n",
      "Epoch: 135: Validation loss: 0.11935, Validation accuracy: 0.97950\n",
      "Epoch: 136: Validation loss: 0.12525, Validation accuracy: 0.97940\n",
      "Epoch: 137: Validation loss: 0.12200, Validation accuracy: 0.97950\n",
      "Epoch: 138: Validation loss: 0.12016, Validation accuracy: 0.97870\n",
      "Epoch: 139: Validation loss: 0.11826, Validation accuracy: 0.97970\n",
      "Epoch: 140: Validation loss: 0.11531, Validation accuracy: 0.97970\n",
      "Epoch: 141: Validation loss: 0.11061, Validation accuracy: 0.98120\n",
      "Epoch: 142: Validation loss: 0.12233, Validation accuracy: 0.97900\n",
      "Epoch: 143: Validation loss: 0.11452, Validation accuracy: 0.98060\n",
      "Epoch: 144: Validation loss: 0.12256, Validation accuracy: 0.97960\n",
      "Epoch: 145: Validation loss: 0.11519, Validation accuracy: 0.98050\n",
      "Epoch: 146: Validation loss: 0.12227, Validation accuracy: 0.97900\n",
      "Epoch: 147: Validation loss: 0.11433, Validation accuracy: 0.97990\n",
      "Epoch: 148: Validation loss: 0.11786, Validation accuracy: 0.98070\n",
      "Epoch: 149: Validation loss: 0.12990, Validation accuracy: 0.97920\n",
      "Epoch: 150: Validation loss: 0.11166, Validation accuracy: 0.98050\n",
      "Epoch: 151: Validation loss: 0.12575, Validation accuracy: 0.97880\n",
      "Epoch: 152: Validation loss: 0.12432, Validation accuracy: 0.98000\n",
      "Epoch: 153: Validation loss: 0.13570, Validation accuracy: 0.97810\n",
      "Epoch: 154: Validation loss: 0.11073, Validation accuracy: 0.98080\n",
      "Epoch: 155: Validation loss: 0.11693, Validation accuracy: 0.98070\n",
      "Epoch: 156: Validation loss: 0.11548, Validation accuracy: 0.98130\n",
      "Epoch: 157: Validation loss: 0.12476, Validation accuracy: 0.97920\n",
      "Epoch: 158: Validation loss: 0.12082, Validation accuracy: 0.97950\n",
      "Epoch: 159: Validation loss: 0.11222, Validation accuracy: 0.98070\n",
      "Epoch: 160: Validation loss: 0.12270, Validation accuracy: 0.97980\n",
      "Epoch: 161: Validation loss: 0.11590, Validation accuracy: 0.98110\n",
      "Epoch: 162: Validation loss: 0.12300, Validation accuracy: 0.98050\n",
      "Epoch: 163: Validation loss: 0.12461, Validation accuracy: 0.98000\n",
      "Epoch: 164: Validation loss: 0.11425, Validation accuracy: 0.98070\n",
      "Epoch: 165: Validation loss: 0.12184, Validation accuracy: 0.97970\n",
      "Epoch: 166: Validation loss: 0.11741, Validation accuracy: 0.98090\n",
      "Epoch: 167: Validation loss: 0.11078, Validation accuracy: 0.98160\n",
      "Epoch: 168: Validation loss: 0.12008, Validation accuracy: 0.98070\n",
      "Epoch: 169: Validation loss: 0.11671, Validation accuracy: 0.98130\n",
      "Epoch: 170: Validation loss: 0.12718, Validation accuracy: 0.97970\n",
      "Epoch: 171: Validation loss: 0.12851, Validation accuracy: 0.97990\n",
      "Epoch: 172: Validation loss: 0.11319, Validation accuracy: 0.98190\n"
     ]
    },
    {
     "name": "stdout",
     "output_type": "stream",
     "text": [
      "Epoch: 173: Validation loss: 0.11461, Validation accuracy: 0.98100\n",
      "Epoch: 174: Validation loss: 0.12407, Validation accuracy: 0.97980\n",
      "Epoch: 175: Validation loss: 0.12596, Validation accuracy: 0.98020\n",
      "Epoch: 176: Validation loss: 0.11093, Validation accuracy: 0.98130\n",
      "Epoch: 177: Validation loss: 0.11323, Validation accuracy: 0.98150\n",
      "Epoch: 178: Validation loss: 0.12516, Validation accuracy: 0.97900\n",
      "Epoch: 179: Validation loss: 0.11838, Validation accuracy: 0.98140\n",
      "Epoch: 180: Validation loss: 0.12092, Validation accuracy: 0.98150\n",
      "Epoch: 181: Validation loss: 0.11630, Validation accuracy: 0.98200\n",
      "Epoch: 182: Validation loss: 0.12878, Validation accuracy: 0.98080\n",
      "Epoch: 183: Validation loss: 0.12916, Validation accuracy: 0.97960\n",
      "Epoch: 184: Validation loss: 0.12557, Validation accuracy: 0.97990\n",
      "Epoch: 185: Validation loss: 0.11492, Validation accuracy: 0.98080\n",
      "Epoch: 186: Validation loss: 0.11970, Validation accuracy: 0.98150\n",
      "Epoch: 187: Validation loss: 0.11987, Validation accuracy: 0.98120\n",
      "Epoch: 188: Validation loss: 0.12580, Validation accuracy: 0.98040\n",
      "Epoch: 189: Validation loss: 0.13940, Validation accuracy: 0.97820\n",
      "Epoch: 190: Validation loss: 0.12253, Validation accuracy: 0.98100\n",
      "Epoch: 191: Validation loss: 0.13424, Validation accuracy: 0.97960\n",
      "Epoch: 192: Validation loss: 0.11628, Validation accuracy: 0.98130\n",
      "Epoch: 193: Validation loss: 0.12335, Validation accuracy: 0.98110\n",
      "Epoch: 194: Validation loss: 0.12422, Validation accuracy: 0.98080\n",
      "Epoch: 195: Validation loss: 0.12638, Validation accuracy: 0.98040\n",
      "Epoch: 196: Validation loss: 0.13038, Validation accuracy: 0.97960\n",
      "Epoch: 197: Validation loss: 0.13296, Validation accuracy: 0.97960\n",
      "Epoch: 198: Validation loss: 0.12603, Validation accuracy: 0.98120\n",
      "Epoch: 199: Validation loss: 0.11239, Validation accuracy: 0.98180\n",
      "Pruning smallest elements (baseline):\n",
      "0.00, 0.9818\n",
      "0.10, 0.982\n",
      "0.20, 0.9817\n",
      "0.30, 0.9812\n",
      "0.40, 0.9811\n",
      "0.50, 0.9807\n",
      "0.60, 0.9792\n",
      "0.70, 0.9749\n",
      "0.80, 0.9446\n",
      "0.90, 0.5514\n",
      "0.95, 0.2315\n",
      "0.96, 0.2002\n",
      "0.97, 0.1578\n",
      "0.98, 0.1604\n",
      "0.99, 0.1009\n",
      "0.99, 0.101\n",
      "0.99, 0.0982\n",
      "1.00, 0.0982\n",
      "1.00, 0.098\n",
      "Pruning using signal-to-noise from Bayes:\n",
      "0.00, 0.9818\n",
      "0.10, 0.9818\n",
      "0.20, 0.9818\n",
      "0.30, 0.9818\n",
      "0.40, 0.9822\n",
      "0.50, 0.9822\n",
      "0.60, 0.9816\n",
      "0.70, 0.9804\n",
      "0.80, 0.9751\n",
      "0.90, 0.9398\n",
      "0.95, 0.7219\n",
      "0.96, 0.5809\n",
      "0.97, 0.3905\n",
      "0.98, 0.1653\n",
      "0.99, 0.1135\n",
      "0.99, 0.1135\n",
      "0.99, 0.1032\n",
      "1.00, 0.1032\n",
      "1.00, 0.098\n"
     ]
    }
   ],
   "source": [
    "runs=1\n",
    "xx = []\n",
    "yy_aa = []\n",
    "yy_bb = []\n",
    "accs = []\n",
    "ww = []\n",
    "ss = []\n",
    "for _ in range(runs):\n",
    "    x, ya, yb, acc, weightvalues, sqrtsigmavalues, _ = train(X_train, Y_train,\n",
    "                                                             X_test, Y_test,\n",
    "                                                             num_epochs=200, \n",
    "                                                             learning_rate = 0.001, l2 = 0.0,\n",
    "                                                             dropout= 0.2, beta2=0.999, laplace_mle=False, \n",
    "                                                             no_bias_init=False,\n",
    "                                                             prec=1/(0.5**2), size=60000, \n",
    "                                                             act='sigmoid')\n",
    "    xx.append(x)\n",
    "    yy_aa.append(ya)\n",
    "    yy_bb.append(yb)\n",
    "    accs.append(acc)\n",
    "    ww.append(weightvalues)\n",
    "    ss.append(sqrtsigmavalues)"
   ]
  },
  {
   "cell_type": "code",
   "execution_count": 18,
   "metadata": {},
   "outputs": [
    {
     "data": {
      "text/plain": [
       "<matplotlib.axes._subplots.AxesSubplot at 0x13b70fac8>"
      ]
     },
     "execution_count": 18,
     "metadata": {},
     "output_type": "execute_result"
    },
    {
     "data": {
      "image/png": "[encoded data removed]",
      "text/plain": [
       "<Figure size 432x288 with 1 Axes>"
      ]
     },
     "metadata": {
      "needs_background": "light"
     },
     "output_type": "display_data"
    }
   ],
   "source": [
    "pd.Series(1-np.array(acc)).plot(logy=True)"
   ]
  },
  {
   "cell_type": "code",
   "execution_count": 19,
   "metadata": {},
   "outputs": [
    {
     "data": {
      "text/plain": [
       "<matplotlib.axes._subplots.AxesSubplot at 0x13c3860b8>"
      ]
     },
     "execution_count": 19,
     "metadata": {},
     "output_type": "execute_result"
    },
    {
     "data": {
      "image/png": "[encoded data removed]",
      "text/plain": [
       "<Figure size 432x288 with 1 Axes>"
      ]
     },
     "metadata": {
      "needs_background": "light"
     },
     "output_type": "display_data"
    }
   ],
   "source": [
    "data = pd.DataFrame(pd.Series(x).rename('pruning_pct'))\n",
    "data['baseline'] = 100*(1-np.array(ya))\n",
    "data['our'] = 100*(1-np.array(yb))\n",
    "data = data.set_index('pruning_pct')\n",
    "data.plot(logy=True)"
   ]
  },
  {
   "cell_type": "code",
   "execution_count": 20,
   "metadata": {},
   "outputs": [
    {
     "data": {
      "image/png": "[encoded data removed]",
      "text/plain": [
       "<Figure size 432x288 with 1 Axes>"
      ]
     },
     "metadata": {
      "needs_background": "light"
     },
     "output_type": "display_data"
    }
   ],
   "source": [
    "ax = pd.Series(weightvalues).hist(bins=1000)\n",
    "#ax.set_xlim(-0.2, 0.2)"
   ]
  },
  {
   "cell_type": "code",
   "execution_count": 21,
   "metadata": {},
   "outputs": [
    {
     "data": {
      "image/png": "[encoded data removed]",
      "text/plain": [
       "<Figure size 432x288 with 1 Axes>"
      ]
     },
     "metadata": {
      "needs_background": "light"
     },
     "output_type": "display_data"
    }
   ],
   "source": [
    "ax = pd.Series(np.log(sqrtsigmavalues)).hist(bins=1000)\n",
    "#ax.set_xlim((0.00, 120))"
   ]
  },
  {
   "cell_type": "code",
   "execution_count": 22,
   "metadata": {},
   "outputs": [
    {
     "data": {
      "image/png": "[encoded data removed]",
      "text/plain": [
       "<Figure size 432x288 with 1 Axes>"
      ]
     },
     "metadata": {
      "needs_background": "light"
     },
     "output_type": "display_data"
    }
   ],
   "source": [
    "ax = pd.Series(np.log(np.abs(weightvalues)/sqrtsigmavalues + 1e-8)).hist(bins=500)\n",
    "#ax.set_xlim((0.00, 1))"
   ]
  },
  {
   "cell_type": "markdown",
   "metadata": {},
   "source": [
    "# Vanilla Adam"
   ]
  },
  {
   "cell_type": "code",
   "execution_count": null,
   "metadata": {},
   "outputs": [],
   "source": [
    "def train_adam(X, Y, X_test, Y_test,\n",
    "               num_epochs=10, learning_rate = 0.0001, dropout= 0.0, l2=0.0):\n",
    "    \n",
    "    # learning_rate = 0.001 ## good for ~ 10-20 epochs\n",
    "    # learning_rate = 0.0001 ## good for ~ 30-100 epochs\n",
    "    \n",
    "    \n",
    "    cv_accuracy_results = []\n",
    "    \n",
    "    tf.reset_default_graph()\n",
    "    tf.set_random_seed(1)\n",
    "    \n",
    "    inputs = tf.placeholder(tf.float32, [None, 784])\n",
    "    labels = tf.placeholder(tf.int32, [None, 10])\n",
    "    training = tf.placeholder(tf.bool, ())\n",
    "    input_d = 784\n",
    "    \n",
    "    with tf.variable_scope('nn'):\n",
    "        regularizer = tf.contrib.layers.l2_regularizer(scale=l2)\n",
    "        _hidden = tf.layers.dense(inputs, 400, \n",
    "                                  kernel_initializer=tf.initializers.random_normal(mean=0.0, stddev=0.1, seed=None),\n",
    "                                  bias_initializer=tf.initializers.random_normal(mean=0.0, stddev=0.1, seed=None),\n",
    "                                  kernel_regularizer=regularizer,\n",
    "                                  bias_regularizer=regularizer,\n",
    "                                  name='dense_l1')\n",
    "        hidden_d = tf.layers.dropout(_hidden, rate=dropout, training=training)\n",
    "        hidden = tf.nn.relu(hidden_d)\n",
    "        \n",
    "        _hidden = tf.layers.dense(hidden, 400, kernel_initializer=tf.initializers.random_normal(mean=0.0, stddev=0.1, seed=None),\n",
    "                                  bias_initializer=tf.initializers.random_normal(mean=0.0, stddev=0.1, seed=None),\n",
    "                                  kernel_regularizer=regularizer,\n",
    "                                  bias_regularizer=regularizer,\n",
    "                                  name='dense_l2')\n",
    "        hidden_d = tf.layers.dropout(_hidden, rate=dropout, training=training)\n",
    "        hidden = tf.nn.relu(hidden_d)\n",
    "        \n",
    "        logits = tf.layers.dense(hidden, 10, kernel_initializer=tf.initializers.random_normal(mean=0.0, stddev=0.1, seed=None),\n",
    "                                 bias_initializer=tf.initializers.random_normal(mean=0.0, stddev=0.1, seed=None),\n",
    "                                 name='dense_out')\n",
    "        out = tf.nn.softmax(logits)\n",
    "        \n",
    "    tmp = tf.reduce_mean(tf.nn.softmax_cross_entropy_with_logits_v2(labels=labels, logits=logits))\n",
    "    loss = tmp + tf.losses.get_regularization_loss()\n",
    "    opt = tf.train.AdamOptimizer(learning_rate=learning_rate)\n",
    "    \n",
    "    opt_train = opt.minimize(loss)\n",
    " \n",
    "    correct_prediction = tf.equal(tf.argmax(out,1), tf.argmax(labels,1))\n",
    "    accuracy = tf.reduce_mean(tf.cast(correct_prediction, tf.float32))\n",
    "    \n",
    "    with tf.Session() as sess:\n",
    "        sess.run(tf.global_variables_initializer())\n",
    "\n",
    "        for epoch in range(num_epochs):\n",
    "\n",
    "            i=0\n",
    "            for x, y in batches(X,Y):\n",
    "                sess.run(opt_train, {inputs: x, labels: y, training: True})\n",
    "                \n",
    "#                 if i <100:\n",
    "#                     print(sess.run(weights[3]))\n",
    "#                     xxx = opt.get_slot(weights[3], \"sigma\")\n",
    "#                     print(\"sigma: {}\".format(sess.run(xxx)))\n",
    "#                     print(\"m: {}\".format(sess.run(opt.get_slot(weights[3], \"m\"))))\n",
    "#                     print(\"v: {}\".format(sess.run(opt.get_slot(weights[3], \"v\"))))\n",
    "                    \n",
    "                    \n",
    "                i+=1\n",
    "                if i%1000==0:\n",
    "                    acc = sess.run(accuracy, {inputs: X_test,\n",
    "                                 labels: Y_test})\n",
    "                    cv_accuracy_results.append(acc)\n",
    "            acc, l = sess.run([accuracy, loss], {inputs: X_test,  labels: Y_test, training: False})       \n",
    "            cv_accuracy_results.append(acc)\n",
    "\n",
    "            print('Epoch: {:>2}: Validation loss: {:>3.5f}, Validation accuracy: {:>3.5f}'.format(epoch, l, acc))\n",
    "        \n",
    "        \n",
    "        weights = tf.get_collection(tf.GraphKeys.TRAINABLE_VARIABLES, scope=tf.get_variable_scope().name)\n",
    "        \n",
    "        # store flattened arrays:\n",
    "        weightvalues = np.hstack(np.array([sess.run(w).flatten() for w in weights]))\n",
    "                \n",
    "        # store weights:\n",
    "        _weights = [sess.run(w) for w in weights]\n",
    "        \n",
    "        def resetweights():\n",
    "            for v,_v in zip(weights, _weights):\n",
    "                v_t = state_ops.assign(v,tf.cast(_v, v.dtype))\n",
    "                sess.run(v_t)\n",
    "        \n",
    "        def pruning(remove_pct):\n",
    "            sorted_STN = np.sort(np.abs(weightvalues))\n",
    "            cuttoff = sorted_STN[int(remove_pct*len(sorted_STN))]\n",
    "\n",
    "            for v in weights:\n",
    "                mask = tf.greater_equal(tf.abs(v),cuttoff)\n",
    "                v_t = state_ops.assign(v,tf.multiply(v, tf.cast(mask, v.dtype)))\n",
    "                sess.run(v_t)\n",
    "            #print(sess.run(weights[-1]))  \n",
    "            \n",
    "            acc = sess.run(accuracy, {inputs: X_test, labels: Y_test, training:False})\n",
    "            print(\"%.2f, %s\" % (np.sum(sorted_STN<cuttoff)/len(sorted_STN),acc ))\n",
    "            return acc\n",
    "        \n",
    "        xs = np.append(0.1 * np.array(range(10)), [0.95, 0.96, 0.97, 0.98, 0.99, 0.992, 0.995, 0.997, 0.999])\n",
    "        ya = []\n",
    "        print(\"Pruning smallest elements (baseline):\")\n",
    "        for pct in xs:\n",
    "            ya.append(pruning(pct))\n",
    "        \n",
    "        resetweights()\n",
    "\n",
    "        return xs, ya, cv_accuracy_results, weightvalues"
   ]
  },
  {
   "cell_type": "code",
   "execution_count": null,
   "metadata": {},
   "outputs": [],
   "source": [
    "runs=1\n",
    "xx = []\n",
    "yy = []\n",
    "accs = []\n",
    "ww = []\n",
    "for _ in range(runs):\n",
    "    x, ya, acc, weightvalues = train_adam(X_train, Y_train, X_test, Y_test, \n",
    "                                          num_epochs=100, learning_rate = 0.001, dropout= 0.25, l2=0.0)\n",
    "    xx.append(x)\n",
    "    yy.append(ya)\n",
    "    accs.append(acc)\n",
    "    ww.append(weightvalues)"
   ]
  },
  {
   "cell_type": "code",
   "execution_count": null,
   "metadata": {},
   "outputs": [],
   "source": [
    "pd.Series(1-np.array(accs[0])).plot(logy=True)"
   ]
  },
  {
   "cell_type": "code",
   "execution_count": null,
   "metadata": {},
   "outputs": [],
   "source": [
    "data = pd.DataFrame(pd.Series(x).rename('pruning_pct'))\n",
    "data['adam'] = 100*(1-np.array(ya))\n",
    "#data['our'] = 100*(1-np.array(yb))\n",
    "data = data.set_index('pruning_pct')\n",
    "data.plot(logy=True)"
   ]
  },
  {
   "cell_type": "code",
   "execution_count": null,
   "metadata": {},
   "outputs": [],
   "source": [
    "ax = pd.Series(weightvalues).hist(bins=500)"
   ]
  },
  {
   "cell_type": "code",
   "execution_count": null,
   "metadata": {},
   "outputs": [],
   "source": []
  },
  {
   "cell_type": "code",
   "execution_count": null,
   "metadata": {},
   "outputs": [],
   "source": []
  }
 ],
 "metadata": {
  "kernelspec": {
   "display_name": "Python 3",
   "language": "python",
   "name": "python3"
  },
  "language_info": {
   "codemirror_mode": {
    "name": "ipython",
    "version": 3
   },
   "file_extension": ".py",
   "mimetype": "text/x-python",
   "name": "python",
   "nbconvert_exporter": "python",
   "pygments_lexer": "ipython3",
   "version": "3.6.8"
  },
  "pycharm": {
   "stem_cell": {
    "cell_type": "raw",
    "metadata": {
     "collapsed": false
    },
    "source": []
   }
  }
 },
 "nbformat": 4,
 "nbformat_minor": 2
}
